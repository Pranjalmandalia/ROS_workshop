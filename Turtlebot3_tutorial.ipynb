{
 "cells": [
  {
   "cell_type": "markdown",
   "metadata": {},
   "source": [
    "# Turtlebot3 Tutorial (ROS Melodic)"
   ]
  },
  {
   "cell_type": "markdown",
   "metadata": {},
   "source": [
    "Installation steps for Turtlebot3 packages."
   ]
  },
  {
   "cell_type": "raw",
   "metadata": {},
   "source": [
    "user@hostname$ sudo apt-get install ros-melodic-joy ros-melodic-teleop-twist-joy ros-melodic-teleop-twist-keyboard ros-melodic-laser-proc ros-melodic-rgbd-launch ros-melodic-depthimage-to-laserscan ros-melodic-rosserial-arduino ros-melodic-rosserial-python ros-melodic-rosserial-server ros-melodic-rosserial-client ros-melodic-rosserial-msgs ros-melodic-amcl ros-melodic-map-server ros-melodic-move-base ros-melodic-urdf ros-melodic-xacro ros-melodic-compressed-image-transport ros-melodic-rqt-image-view ros-melodic-gmapping ros-melodic-navigation ros-melodic-interactive-markers"
   ]
  },
  {
   "cell_type": "markdown",
   "metadata": {},
   "source": [
    "## Installing other packages required for Turtlebot"
   ]
  },
  {
   "cell_type": "markdown",
   "metadata": {},
   "source": [
    "Create a new workspace for Turtlebot"
   ]
  },
  {
   "cell_type": "raw",
   "metadata": {},
   "source": [
    "user@hostname$ mkdir ~/turtlebot/src\n",
    "user@hostname$ cd ~/turtlebot/src\n",
    "user@hostname$ catkin_init_workspace\n",
    "user@hostname$ cd ../\n",
    "user@hostname$ catkin_make\n",
    "user@hostname$ echo 'source ~/turtlebot/devel/setup.bash' >> ~/.bashrc"
   ]
  },
  {
   "cell_type": "markdown",
   "metadata": {},
   "source": [
    "which create workspace name \"turtlebot\" in Home directory and in \"src\" which contain all require package for turtlebot."
   ]
  },
  {
   "cell_type": "markdown",
   "metadata": {},
   "source": [
    "To install all those package follow the step below."
   ]
  },
  {
   "cell_type": "markdown",
   "metadata": {},
   "source": [
    "open the terminal and nevigate to turtlebot/src directory."
   ]
  },
  {
   "cell_type": "raw",
   "metadata": {},
   "source": [
    "user@hostname$ cd ~/turtlebot/src"
   ]
  },
  {
   "cell_type": "raw",
   "metadata": {},
   "source": [
    "Copy and paste cmds one by one which are given below."
   ]
  },
  {
   "cell_type": "raw",
   "metadata": {},
   "source": [
    "user@hostname$ git clone https://github.com/ROBOTIS-GIT/turtlebot3\n",
    "user@hostname$ git clone https://github.com/ROBOTIS-GIT/turtlebot3_msgs\n",
    "user@hostname$ git clone https://github.com/ROBOTIS-GIT/turtlebot3_simulations\n",
    "user@hostname$ git clone https://github.com/ROBOTIS-GIT/turtlebot3_applications\n",
    "user@hostname$ git clone https://github.com/ROBOTIS-GIT/turtlebot3_autorace\n",
    "user@hostname$ git clone https://github.com/ROBOTIS-GIT/turtlebot3_applications_msgs.git\n",
    "user@hostname$ git clone https://github.com/ros-perception/ar_track_alvar\n"
   ]
  },
  {
   "cell_type": "markdown",
   "metadata": {},
   "source": [
    "After successfully download following package. We need to do catkin_make."
   ]
  },
  {
   "cell_type": "raw",
   "metadata": {},
   "source": [
    "user@hostname$ cd ~/turtlebot\n",
    "user@hostname$ catkin_make"
   ]
  },
  {
   "cell_type": "markdown",
   "metadata": {},
   "source": [
    "Finally, Turtlebot is ready for simulation in Gazebo."
   ]
  },
  {
   "cell_type": "markdown",
   "metadata": {},
   "source": [
    "To launch the Bot in Gazebo follow the step below."
   ]
  },
  {
   "cell_type": "markdown",
   "metadata": {},
   "source": [
    "TurtleBot3 has three models, burger, waffle, and waffle_pi, so you have to set which model to use before using. To do this, we specify the model to be used with the export command."
   ]
  },
  {
   "cell_type": "raw",
   "metadata": {},
   "source": [
    "Add any one of following in .bashrc file.\n",
    "export TURTLEBOT3_MODEL=burger\n",
    "export TURTLEBOT3_MODEL=waffle\n",
    "export TURTLEBOT3_MODEL=waffle_pi"
   ]
  },
  {
   "cell_type": "markdown",
   "metadata": {},
   "source": [
    "<img src=\"images/bashrc.png\">"
   ]
  },
  {
   "cell_type": "markdown",
   "metadata": {},
   "source": [
    "Run the following cmd in seperate terminal."
   ]
  },
  {
   "cell_type": "raw",
   "metadata": {},
   "source": [
    "user@hostname$ roscore\n",
    "user@hostname$ roslaunch turtlebot3_gazebo turtlebot3_empty_world.launch"
   ]
  },
  {
   "cell_type": "markdown",
   "metadata": {},
   "source": [
    "Those cmds open the Gazebo application with turtlebot (burger)"
   ]
  },
  {
   "cell_type": "markdown",
   "metadata": {},
   "source": [
    "<img src=\"images/gazebo1.png\">"
   ]
  },
  {
   "cell_type": "raw",
   "metadata": {},
   "source": [
    "You have various model of Turtlebot3 and various simulaton environment which you can run following way.\n",
    "\n",
    "Models : burger, \n",
    "    waffle, \n",
    "    waffle_pi\n",
    "    \n",
    "You can change model by exporting it in bashrc file.\n",
    "    \n",
    "Environment : turtlebot3_autorace\n",
    "    turtlebot3_empty_world\n",
    "    turtlebot3_house\n",
    "    turtlebot3_stage_1\n",
    "    turtlebot3_stage_2\n",
    "    turtlebot3_stage_3\n",
    "    turtlebot3_stage_4\n",
    "    turtlebot3_world\n",
    "    \n",
    "You can chage environment by change the name of launch file in roslaunch cmd.\n",
    "    \n",
    "              "
   ]
  },
  {
   "cell_type": "markdown",
   "metadata": {},
   "source": [
    "## In picture you can see different model of Turtlebot."
   ]
  },
  {
   "cell_type": "markdown",
   "metadata": {},
   "source": [
    "<img src=\"images/burger.png\" >"
   ]
  },
  {
   "cell_type": "markdown",
   "metadata": {},
   "source": [
    "## In pictures you can see different simulation environment."
   ]
  },
  {
   "cell_type": "markdown",
   "metadata": {},
   "source": [
    "<img src = \"images/stage4.png\" >"
   ]
  },
  {
   "cell_type": "markdown",
   "metadata": {},
   "source": [
    "<img src = \"images/world.png\" >"
   ]
  },
  {
   "cell_type": "markdown",
   "metadata": {},
   "source": [
    "## Now, Time to drive Bot in Environment."
   ]
  },
  {
   "cell_type": "markdown",
   "metadata": {},
   "source": [
    "You have two option to drive bot.\n",
    "1.Joystick Control\n",
    "2.Keyboard Control"
   ]
  },
  {
   "cell_type": "markdown",
   "metadata": {},
   "source": [
    "For keyboard control run the following step."
   ]
  },
  {
   "cell_type": "raw",
   "metadata": {},
   "source": [
    "user@hostname$ roslaunch turtlebot3_gazebo turtlebot3_world.launch\n",
    "user@hostname$ roslaunch turtlebot3_teleop turtlebot3_teleop_key.launch"
   ]
  },
  {
   "cell_type": "markdown",
   "metadata": {},
   "source": [
    "You get this type of window after running cmds."
   ]
  },
  {
   "cell_type": "markdown",
   "metadata": {},
   "source": [
    "<img src=\"images/Teleop.png\" >"
   ]
  },
  {
   "cell_type": "markdown",
   "metadata": {},
   "source": [
    "Now, you can control your bot in environment."
   ]
  },
  {
   "cell_type": "markdown",
   "metadata": {},
   "source": [
    "For joystick control you need to install and configure some packages.\n"
   ]
  },
  {
   "cell_type": "markdown",
   "metadata": {},
   "source": [
    "For follow the link given below.\n",
    "http://wiki.ros.org/joy/Tutorials/ConfiguringALinuxJoystick"
   ]
  },
  {
   "cell_type": "markdown",
   "metadata": {},
   "source": [
    "After successfully configure joystick run the folllowing script."
   ]
  },
  {
   "cell_type": "code",
   "execution_count": null,
   "metadata": {},
   "outputs": [],
   "source": [
    "#! usr/bin/env python\n",
    "import rospy\n",
    "from sensor_msgs.msg import Joy\n",
    "from geometry_msgs.msg import Twist\n",
    "\n",
    "out=Twist()\n",
    "\n",
    "def callback(msg,pub):\n",
    "    out.linear.x=msg.axes[1]*5\n",
    "    out.angular.z=msg.axes[3]*5\n",
    "    print(out)\n",
    "    pub.publish(out)\n",
    "\n",
    "if __name__ == '__main__':\n",
    "    rospy.init_node('Sender',anonymous=True)\n",
    "    pub=rospy.Publisher('cmd_vel',Twist,queue_size=10)\n",
    "    sub=rospy.Subscriber('/joy',Joy,callback,pub)\n",
    "    rospy.spin()\n"
   ]
  },
  {
   "cell_type": "raw",
   "metadata": {},
   "source": [
    "Controls : \n",
    "    Left : Joytick Analog control for Forward and Backward\n",
    "    Right : Joytick Analog control for Left and Right"
   ]
  },
  {
   "cell_type": "markdown",
   "metadata": {},
   "source": [
    "We can perform obstacle avoidance in simulation which are little bit complicate in real environment.To do that run the following cmd in separate terminals.\n"
   ]
  },
  {
   "cell_type": "markdown",
   "metadata": {},
   "source": [
    "## Path Tracing"
   ]
  },
  {
   "cell_type": "markdown",
   "metadata": {},
   "source": [
    "Perform a task to traverse turtlebot3 Forward/Backward, Rotate Left/Right.\n",
    "And then Traverse a circle in empty world."
   ]
  },
  {
   "cell_type": "code",
   "execution_count": null,
   "metadata": {},
   "outputs": [],
   "source": [
    "#! usr/bin/env python\n",
    "#This is code to traverse bot in Circle\n",
    "## import Libraries\n",
    "import rospy\n",
    "from geometry_msgs.msg import Twist \n",
    "from sensor_msgs.msg import Imu\n",
    "import time\n",
    "\n",
    "##Declare Global variables\n",
    "imu = 0\n",
    "out = Twist()\n",
    "\n",
    "def circle():  # Trace Circle logic\n",
    "    global out\n",
    "    out.linear.x = 1\n",
    "    out.angular.z = 0.5\n",
    "    pub.publish(out)\n",
    "\n",
    "    \n",
    "if __name__ == '__main__':\n",
    "    rospy.init_node('path_tracer',anonymous=True)   # Node init\n",
    "    pub = rospy.Publisher('cmd_vel',Twist,queue_size=10)  # init publisher\n",
    "    while(1):\n",
    "        circle()\n",
    "    rospy.spin()\n"
   ]
  },
  {
   "cell_type": "markdown",
   "metadata": {},
   "source": [
    "## Simple Obstacle Avoidance"
   ]
  },
  {
   "cell_type": "markdown",
   "metadata": {},
   "source": [
    "Turtlebot3 consist of lidar sensor which are responsible for publishing laserscan data on topic \"/scan\". "
   ]
  },
  {
   "cell_type": "raw",
   "metadata": {},
   "source": [
    "user@hostname$ rostopic list"
   ]
  },
  {
   "cell_type": "markdown",
   "metadata": {},
   "source": [
    "Here you will get \"/scan\" topic. Observe the Lidar values. This will give 360 values of distances which covers a certain angle."
   ]
  },
  {
   "cell_type": "raw",
   "metadata": {},
   "source": [
    "user@hostname$ rostopic echo /scan"
   ]
  },
  {
   "cell_type": "markdown",
   "metadata": {},
   "source": [
    "Perform a task to traverse in straight line and bot will stop if it detects obstacle excatly in front of it at distance of 0.5"
   ]
  },
  {
   "cell_type": "markdown",
   "metadata": {},
   "source": [
    "Hint: You can take value of 180 in array of lidar values."
   ]
  },
  {
   "cell_type": "code",
   "execution_count": null,
   "metadata": {},
   "outputs": [],
   "source": [
    "#! usr/bin/env python\n",
    "\n",
    "## import Libraries\n",
    "import rospy\n",
    "from sensor_msgs.msg import LaserScan\n",
    "from geometry_msgs.msg import Twist\n",
    "\n",
    "##Declare Global variables\n",
    "out = Twist()\n",
    "count = 0  # Counter for obstacle detection\n",
    "\n",
    "\n",
    "def scan_callback(msg):  # Callback for lidar values\n",
    "    global count\n",
    "    if(count == 0):  # Assigns data until obstacle is detected\n",
    "        out.linear.x = 1\n",
    "        out.angular.z = 1\n",
    "        print(msg.ranges[180])  # prints laser data\n",
    "    if(msg.ranges[180] <= 0.6):     # checks condition if obstacle is detected in front of bot\n",
    "        print('Obstacle Detected')\n",
    "        out.linear.x = 0\n",
    "        out.angular.z = 0\n",
    "        count = 1\n",
    "    pub.publish(out)  # Publishes data\n",
    "\n",
    "\n",
    "if __name__ == '__main__':\n",
    "    rospy.init_node('obstacle_avoider',anonymous=True)  # Node init\n",
    "    pub = rospy.Publisher('cmd_vel',Twist,queue_size=10,)  # init publisher\n",
    "    sub = rospy.Subscriber('/scan',LaserScan,scan_callback)  # init subscriber\n",
    "    rospy.spin()"
   ]
  },
  {
   "cell_type": "markdown",
   "metadata": {},
   "source": [
    "<img src=\"images/example1.png\">\n",
    "<img src=\"images/example2.png\">\n",
    "<img src=\"images/example3.png\">"
   ]
  },
  {
   "cell_type": "markdown",
   "metadata": {},
   "source": [
    "For Simulation for perfect obstacle avoidance run below cmds"
   ]
  },
  {
   "cell_type": "raw",
   "metadata": {},
   "source": [
    "user@hostname$ roslaunch turtlebot3_gazebo turtlebot3_world.launch\n",
    "user@hostname$ roslaunch turtlebot3_gazebo turtlebot3_simulation.launch"
   ]
  },
  {
   "cell_type": "markdown",
   "metadata": {},
   "source": [
    "In simulation world bot run automatically and obstacle can in path , it avoids and move further."
   ]
  },
  {
   "cell_type": "markdown",
   "metadata": {},
   "source": [
    "## RViz"
   ]
  },
  {
   "cell_type": "markdown",
   "metadata": {},
   "source": [
    "You can visualize various sensor data on Rviz (Ros Visulization).\n",
    "Various sensor already mounted on Turtlebot. Like, Laser, camera etc.\n"
   ]
  },
  {
   "cell_type": "markdown",
   "metadata": {},
   "source": [
    "You can visualize laser data on RViz by running following cmds in seperate terminal."
   ]
  },
  {
   "cell_type": "raw",
   "metadata": {},
   "source": [
    "user@hostname$ roslaunch turtlebot3_gazebo turtlebot3_world.launch\n",
    "user@hostname$ roslaunch turtlebot3_gazebo turtlebot3_gazebo_rviz.launch\n",
    "user@hostname$ roslaunch turtlebot3_teleop turtlebot3_teleop_key.launch"
   ]
  },
  {
   "cell_type": "markdown",
   "metadata": {},
   "source": [
    "Now, you can run bot by keyboard and you can visualize laserdata on Rviz."
   ]
  },
  {
   "cell_type": "markdown",
   "metadata": {},
   "source": [
    "<img src =\"images/rviz1.png\" >"
   ]
  },
  {
   "cell_type": "markdown",
   "metadata": {},
   "source": [
    "<img src =\"images/rviz2.png\" >"
   ]
  },
  {
   "cell_type": "markdown",
   "metadata": {},
   "source": [
    "## Mapping in RViz"
   ]
  },
  {
   "cell_type": "markdown",
   "metadata": {},
   "source": [
    "In real world, we require map for navigation, without map we can't move further. For that ROS provide the facility to create map.For that we need to move robot in world and from laser or other Sensor reading it will create a map. "
   ]
  },
  {
   "cell_type": "markdown",
   "metadata": {},
   "source": [
    "For that run a following cmd in seperate terminal."
   ]
  },
  {
   "cell_type": "raw",
   "metadata": {},
   "source": [
    "user@hostname$ roslaunch turtlebot3_gazebo turtlebot3_world.launch\n",
    "user@hostname$ roslaunch turtlebot3_slam turtlebot3_slam.launch slam_methods:=gmapping\n",
    "user@hostname$ roslaunch turtlebot3_teleop turtlebot3_teleop_key.launch    "
   ]
  },
  {
   "cell_type": "markdown",
   "metadata": {},
   "source": [
    "You will get this type of window."
   ]
  },
  {
   "cell_type": "markdown",
   "metadata": {},
   "source": [
    "<img src = \"images/slam1.png\" >"
   ]
  },
  {
   "cell_type": "markdown",
   "metadata": {},
   "source": [
    "Then move the bot toward the unshaded area to scan that area and then you get this type of window."
   ]
  },
  {
   "cell_type": "markdown",
   "metadata": {},
   "source": [
    "<img src = \"images/slam2.png\" >"
   ]
  },
  {
   "cell_type": "markdown",
   "metadata": {},
   "source": [
    "After completing whole map. Save map for further use. Or you can done by..."
   ]
  },
  {
   "cell_type": "raw",
   "metadata": {},
   "source": [
    "user@hostname$ rosrun map_server map_saver -f ~/map"
   ]
  },
  {
   "cell_type": "markdown",
   "metadata": {},
   "source": [
    "## Virtual Navigation with TurtleBot"
   ]
  },
  {
   "cell_type": "markdown",
   "metadata": {},
   "source": [
    "You can automatically navigate your bot in virtual environment (RViz).\n",
    "Or you can do by following step below. For that we will use saved map."
   ]
  },
  {
   "cell_type": "raw",
   "metadata": {},
   "source": [
    "user@hostname$ roslaunch turtlebot3_gazebo turtlebot3_world.launch\n",
    "user@hostname$ roslaunch turtlebot3_navigation turtlebot3_navigation.launch map_file:=$HOME/map.yaml"
   ]
  },
  {
   "cell_type": "markdown",
   "metadata": {},
   "source": [
    "After this you will get this type of window."
   ]
  },
  {
   "cell_type": "markdown",
   "metadata": {},
   "source": [
    "<img src=\"images/navigation1.png\">"
   ]
  },
  {
   "cell_type": "markdown",
   "metadata": {},
   "source": [
    "By clicking \"2D Nav Goal\" button which situated in upper bar.\n",
    "and then click on map where you want to navigate bot.And then see what happen..."
   ]
  },
  {
   "cell_type": "markdown",
   "metadata": {},
   "source": [
    "<img src=\"images/navigation2.png\">"
   ]
  },
  {
   "cell_type": "markdown",
   "metadata": {},
   "source": [
    "<img src=\"images/navigation3.png\">"
   ]
  }
 ],
 "metadata": {
  "kernelspec": {
   "display_name": "Python 2",
   "language": "python",
   "name": "python2"
  },
  "language_info": {
   "codemirror_mode": {
    "name": "ipython",
    "version": 2
   },
   "file_extension": ".py",
   "mimetype": "text/x-python",
   "name": "python",
   "nbconvert_exporter": "python",
   "pygments_lexer": "ipython2",
   "version": "2.7.17"
  }
 },
 "nbformat": 4,
 "nbformat_minor": 4
}
