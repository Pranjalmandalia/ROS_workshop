{
 "cells": [
  {
   "cell_type": "markdown",
   "metadata": {},
   "source": [
    "#                      Basic ROS Workshop"
   ]
  },
  {
   "cell_type": "markdown",
   "metadata": {},
   "source": [
    "<img src=\"images/ROS.png\">"
   ]
  },
  {
   "cell_type": "markdown",
   "metadata": {},
   "source": [
    "## What is ROS???"
   ]
  },
  {
   "cell_type": "markdown",
   "metadata": {},
   "source": [
    "Robot Operating System (ROS or ros) is robotics middleware (i.e. collection of software frameworks for robot software development). Although ROS is not an operating system, it provides services designed for a heterogeneous computer cluster such as hardware abstraction, low-level device control, implementation of commonly used functionality, message-passing between processes, and package management. "
   ]
  },
  {
   "cell_type": "markdown",
   "metadata": {},
   "source": [
    "ROS, the Robot Operating System, is an open source framework for getting robots to\n",
    "do things. ROS is meant to serve as a common software platform for people who are\n",
    "building and using robots."
   ]
  },
  {
   "cell_type": "markdown",
   "metadata": {},
   "source": [
    " It is a\n",
    "collection of tools, libraries, and conventions that aim to simplify the task of creating\n",
    "complex and robust robot behavior across a wide variety of robotic platforms."
   ]
  },
  {
   "cell_type": "markdown",
   "metadata": {},
   "source": [
    "Before we start writing code in ROS, we’re going to take a moment to introduce some\n",
    "of the key concepts that underlie the framework. ROS systems are comprised of a\n",
    "large number of independent programs that are constantly communicating with each\n",
    "other\n"
   ]
  },
  {
   "cell_type": "markdown",
   "metadata": {},
   "source": [
    "# ROS NODE"
   ]
  },
  {
   "cell_type": "markdown",
   "metadata": {},
   "source": [
    "Nodes are processes where computation is done. If you want to have\n",
    "a process that can interact with other nodes, you need to create a node with\n",
    "this process to connect it to the ROS network.\n",
    "\n",
    "Usually, a system will have\n",
    "many nodes to control different functions. You will see that it is better to\n",
    "have many nodes that provide only a single functionality, rather than a large\n",
    "node that makes everything in the system. Nodes are written with an ROS\n",
    "client library, for example, roscpp or rospy ."
   ]
  },
  {
   "cell_type": "markdown",
   "metadata": {},
   "source": [
    "## ROSCORE:"
   ]
  },
  {
   "cell_type": "markdown",
   "metadata": {},
   "source": [
    "roscore is a service that provides connection information to nodes so that they can\n",
    "transmit messages to one another. Every node connects to roscore at startup to register details of the message streams it publishes and the streams to which it wishes to\n",
    "subscribe. \n",
    "\n",
    "When a new node appears, roscore provides it with the information that it\n",
    "needs to form a direct peer-to-peer connection with other nodes publishing and sub‐\n",
    "scribing to the same message topics.\n",
    "\n",
    "Every ROS system needs a running \"roscore\",\n",
    "since without it, nodes cannot find other nodes.\n",
    "\n",
    "When a ROS node starts up, it expects its process to have an environment variable\n",
    "named ROS_MASTER_URI. This variable is expected to contain a string of the form\n",
    "http://hostname:11311/, which in this case would imply that there is a running instance of roscore accessible on port 11311 somewhere on a host called hostname that can be accessed over the network.\n",
    "\n",
    "With knowledge of the location of roscore on the network, nodes register themselves\n",
    "at startup with roscore and then query roscore to find other nodes and data streams\n",
    "by name.\n",
    "Each ROS node tells roscore which messages it provides and which it\n",
    "would like to subscribe to. roscore then provides the addresses of the relevant message producers and consumers.\n",
    "\n",
    "Viewed in a graph form, every node in the graph can\n",
    "periodically call on services provided by roscore to find its peers. This is represented\n",
    "by the dashed lines shown in Figure 2-2, which show that in this minimalist twonode system, the talker and listener nodes can periodically make calls to roscore while exchanging peer-to-peer messages directly themselves.\n"
   ]
  },
  {
   "cell_type": "markdown",
   "metadata": {},
   "source": [
    "## Catkin, Workspaces, and ROS Packages:\n"
   ]
  },
  {
   "cell_type": "markdown",
   "metadata": {},
   "source": [
    "catkin is the ROS build system.\n",
    "\n",
    "The set of tools that ROS uses to generate executable\n",
    "programs, libraries, scripts, and interfaces that other code can use.\n"
   ]
  },
  {
   "cell_type": "markdown",
   "metadata": {},
   "source": [
    "## Catkin\n"
   ]
  },
  {
   "cell_type": "markdown",
   "metadata": {},
   "source": [
    "catkin comprises a set of CMake macros and custom Python scripts to provide extra\n",
    "functionality on top of the normal CMake workflow. \n",
    "\n",
    "CMake is a commonly used open source build system. If you’re going to master the subtleties of catkin, it really helps\n",
    "if you know a bit about CMake. However, for the more casual catkin user, all you\n",
    "really need to know is that there are two files, CMakeLists.txt and package.xml, that\n",
    "you need to add some specific information to in order to have things work properly.\n",
    "\n",
    "You then call the various catkin tools to generate the directories and files you’re\n",
    "going to need as you write code for your robots.\n"
   ]
  },
  {
   "cell_type": "markdown",
   "metadata": {},
   "source": [
    "## Workspaces"
   ]
  },
  {
   "cell_type": "markdown",
   "metadata": {},
   "source": [
    "Before you start writing any ROS code, you need to set up a workspace for this code to\n",
    "live in. A workspace is simply a set of directories in which a related set of ROS code\n",
    "lives. \n",
    "\n",
    "You can have multiple ROS workspaces, but you can only work in one of them\n",
    "at any one time.\n",
    "\n",
    "The simple way to think about this is that you can only see code that\n",
    "lives in your current workspace.\n"
   ]
  },
  {
   "cell_type": "markdown",
   "metadata": {},
   "source": [
    "### Now, we’re going to make a catkin workspace and initialize it:"
   ]
  },
  {
   "cell_type": "markdown",
   "metadata": {},
   "source": [
    "#### user@hostname$ mkdir -p ~/catkin_ws/src"
   ]
  },
  {
   "cell_type": "markdown",
   "metadata": {},
   "source": [
    "#### user@hostname$ cd ~/catkin_ws/src"
   ]
  },
  {
   "cell_type": "markdown",
   "metadata": {},
   "source": [
    "#### user@hostname$ catkin_init_workspace"
   ]
  },
  {
   "cell_type": "markdown",
   "metadata": {},
   "source": [
    "This creates a workspace directory called catkin_ws (although you can call it anything\n",
    "you like), with a src directory inside it for your code.\n",
    "\n",
    "The catkin_init_workspace\n",
    "command creates a CMakeLists.txt file for you in the src directory, where you invoked\n",
    "it.\n"
   ]
  },
  {
   "cell_type": "markdown",
   "metadata": {},
   "source": [
    "### Next, we’re going to create some other workspace files:"
   ]
  },
  {
   "cell_type": "markdown",
   "metadata": {},
   "source": [
    "#### user@hostname$ cd ~/catkin_ws"
   ]
  },
  {
   "cell_type": "markdown",
   "metadata": {},
   "source": [
    "#### user@hostname$ catkin_make"
   ]
  },
  {
   "cell_type": "markdown",
   "metadata": {},
   "source": [
    "Running catkin_make will generate a lot of output as it does its work. When it’s done,\n",
    "you’ll end up with two new directories: build and devel.\n",
    "    \n",
    "build is where catkin is going\n",
    "to store the results of some of its work, like libraries and executable programs if you\n",
    "use C++. We’ll largely ignore build since we don’t need it much when using Python.\n",
    "\n",
    "devel contains a number of files and directories, the most interesting of which are the\n",
    "setup files. Running these configures your system to use this workspace, and the code\n",
    "that’s (going to be) contained inside it.\n"
   ]
  },
  {
   "cell_type": "markdown",
   "metadata": {},
   "source": [
    "### Assuming you’re using the default commandline shell (bash) and are still in the top-level directory of your workspace, you can do this with:\n"
   ]
  },
  {
   "cell_type": "markdown",
   "metadata": {},
   "source": [
    "#### user@hostname$ source devel/setup.bash"
   ]
  },
  {
   "cell_type": "markdown",
   "metadata": {},
   "source": [
    "### Congratulations! You’ve just created your first ROS workspace."
   ]
  },
  {
   "cell_type": "markdown",
   "metadata": {},
   "source": [
    "You should put all the code you write that’s based on it, into this\n",
    "workspace, in the src directory, organized as ROS packages.\n"
   ]
  },
  {
   "cell_type": "markdown",
   "metadata": {},
   "source": [
    "## ROS Packages"
   ]
  },
  {
   "cell_type": "markdown",
   "metadata": {},
   "source": [
    "ROS software is organized into packages, each of which contains some combination\n",
    "of code, data, and documentation.2 \n",
    "\n",
    "The ROS ecosystem includes thousands of publicly available packages in open repositories, and many thousands more packages are\n",
    "certainly lurking behind organizational firewalls.\n",
    "\n",
    "Packages sit inside workspaces, in the src directory. Each package directory must\n",
    "include a CMakeLists.txt file and a package.xml file that describes the contents of the\n",
    "package and how catkin should interact with it. \n"
   ]
  },
  {
   "cell_type": "markdown",
   "metadata": {},
   "source": [
    "### Creating a new package"
   ]
  },
  {
   "cell_type": "markdown",
   "metadata": {},
   "source": [
    "#### user@hostname$ cd ~/catkin_ws/src"
   ]
  },
  {
   "cell_type": "markdown",
   "metadata": {},
   "source": [
    "#### user@hostname$ catkin_create_pkg my_code rospy"
   ]
  },
  {
   "cell_type": "markdown",
   "metadata": {},
   "source": [
    "This changes the directory to src (where packages live) and invokes catkin_cre\n",
    "ate_pkg to make the new package called my_code, which depends on the\n",
    "(already existing) rospy package.\n",
    "\n",
    "If your new package depends on other existing\n",
    "packages, you can also list them on the command line. We’ll talk about package\n",
    "dependencies later in the book, so don’t worry if that bit doesn’t make a lot of sense to\n",
    "you just yet.\n",
    "\n",
    "The catkin_create_pkg command makes a directory with the same name as the new\n",
    "package (my_code) with a CMakeLists.txt file, a package.xml file, and a src\n",
    "directory in it.\n"
   ]
  },
  {
   "cell_type": "markdown",
   "metadata": {},
   "source": [
    "## Rosrun"
   ]
  },
  {
   "cell_type": "markdown",
   "metadata": {},
   "source": [
    "Packages are just locations in the filesystem, and because ROS nodes are typically exe‐\n",
    "cutable programs, one could manually cd around the filesystem to start all the ROS\n",
    "nodes of interest.\n",
    "\n",
    "For example, the talker program lives in a package named rospy_tutorials, and its\n",
    "executable programs are found in /opt/ros/indigo/share/rospy_tutorials. However,\n",
    "chasing down these long paths would become tiresome in large filesystems, since\n",
    "nodes can be deeply buried in large directory hierarchies. \n",
    "\n",
    "To automate this task, ROS\n",
    "provides a command-line utility called rosrun that will search a package for the\n",
    "requested program and pass it any parameters supplied on the command line. \n"
   ]
  },
  {
   "cell_type": "markdown",
   "metadata": {},
   "source": [
    "### The syntax is as follows:\n",
    "#### user@hostname$ rosrun PACKAGE EXECUTABLE [ARGS]\n"
   ]
  },
  {
   "cell_type": "markdown",
   "metadata": {},
   "source": [
    "## ROS Tutorial"
   ]
  },
  {
   "cell_type": "markdown",
   "metadata": {},
   "source": [
    "To run the talker program in the rospy_tutorials package, no matter where one happened to be in the filesystem, one would first start a roscore instance in a terminal emulator window:"
   ]
  },
  {
   "cell_type": "markdown",
   "metadata": {},
   "source": [
    "### user@hostname$ roscore"
   ]
  },
  {
   "cell_type": "markdown",
   "metadata": {},
   "source": [
    "Then, in another terminal window, run:"
   ]
  },
  {
   "cell_type": "markdown",
   "metadata": {},
   "source": [
    "### user@hostname$ rosrun rospy_tutorials talker"
   ]
  },
  {
   "cell_type": "markdown",
   "metadata": {},
   "source": [
    "## ROS TOPIC:"
   ]
  },
  {
   "cell_type": "markdown",
   "metadata": {},
   "source": [
    "These nodes by themselves are typically not very useful.\n",
    "Things only get interesting when nodes communicate with each other, exchanging\n",
    "information and data. \n",
    "\n",
    "The most common way to do that is through topics. A topic is a\n",
    "name for a stream of messages with a defined type. \n",
    "\n",
    "For example, the data from a laser\n",
    "range-finder might be sent on a topic called scan, with a message type of LaserScan,\n",
    "while the data from a camera might be sent over a topic called image, with a message\n",
    "type of Image.\n",
    "\n",
    "Topics implement a publish/subscribe communication mechanism, one of the more\n",
    "common ways to exchange data in a distributed system. Before nodes start to trans‐\n",
    "mit data over topics, they must first announce, or advertise, both the topic name and\n",
    "the types of messages that are going to be sent.\n",
    "\n",
    "Then they can start to send, or publish,\n",
    "the actual data on the topic. Nodes that want to receive messages on a topic can sub‐\n",
    "scribe to that topic by making a request to roscore. After subscribing, all messages on\n",
    "the topic are delivered to the node that made the request. \n",
    "\n",
    "One of the main advantages\n",
    "to using ROS is that all the messy details of setting up the necessary connections\n",
    "when nodes advertise or subscribe to topics is handled for you by the underlying\n",
    "communication mechanism so that you don’t have to worry about it yourself.\n",
    "\n",
    "In ROS, all messages on the same topic must be of the same data type. Although ROS\n",
    "does not enforce it, topic names often describe the messages that are sent over them.\n",
    "For example, on the PR2 robot, the topic /wide_stereo/right/image_color is used\n",
    "for color images from the rightmost camera of the wide-angle stereo pair.\n"
   ]
  },
  {
   "cell_type": "markdown",
   "metadata": {},
   "source": [
    "## Publishing to a Topic"
   ]
  },
  {
   "cell_type": "code",
   "execution_count": null,
   "metadata": {},
   "outputs": [],
   "source": [
    "#!/usr/bin/env python\n",
    "import rospy\n",
    "from std_msgs.msg import Int32\n",
    "rospy.init_node('topic_publisher')\n",
    "pub = rospy.Publisher('counter', Int32)\n",
    "rate = rospy.Rate(2)\n",
    "count = 0\n",
    "\n",
    "while not rospy.is_shutdown():\n",
    "    pub.publish(count)\n",
    "    count += 1\n",
    "    rate.sleep()\n",
    "\n"
   ]
  },
  {
   "cell_type": "markdown",
   "metadata": {},
   "source": [
    "## Subscribing to a Topic"
   ]
  },
  {
   "cell_type": "code",
   "execution_count": null,
   "metadata": {},
   "outputs": [
    {
     "name": "stdout",
     "output_type": "stream",
     "text": [
      "Unable to register with master node [http://localhost:11311]: master may not be running yet. Will keep trying.\n"
     ]
    }
   ],
   "source": [
    "#!/usr/bin/env python\n",
    "import rospy\n",
    "from std_msgs.msg import Int32\n",
    "def callback(msg):\n",
    "    print(msg.data)\n",
    "    \n",
    "rospy.init_node('topic_subscriber')\n",
    "sub = rospy.Subscriber('counter', Int32, callback)\n",
    "rospy.spin()\n"
   ]
  },
  {
   "cell_type": "code",
   "execution_count": null,
   "metadata": {},
   "outputs": [],
   "source": []
  }
 ],
 "metadata": {
  "kernelspec": {
   "display_name": "Python 2",
   "language": "python",
   "name": "python2"
  },
  "language_info": {
   "codemirror_mode": {
    "name": "ipython",
    "version": 2
   },
   "file_extension": ".py",
   "mimetype": "text/x-python",
   "name": "python",
   "nbconvert_exporter": "python",
   "pygments_lexer": "ipython2",
   "version": "2.7.17"
  }
 },
 "nbformat": 4,
 "nbformat_minor": 2
}
